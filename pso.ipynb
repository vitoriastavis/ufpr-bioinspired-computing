{
  "nbformat": 4,
  "nbformat_minor": 0,
  "metadata": {
    "colab": {
      "provenance": [],
      "authorship_tag": "ABX9TyPashC2lH1ZIlExpl4Rl08f",
      "include_colab_link": true
    },
    "kernelspec": {
      "name": "python3",
      "display_name": "Python 3"
    },
    "language_info": {
      "name": "python"
    }
  },
  "cells": [
    {
      "cell_type": "markdown",
      "metadata": {
        "id": "view-in-github",
        "colab_type": "text"
      },
      "source": [
        "<a href=\"https://colab.research.google.com/github/vitoriastavis/ufpr-bioinspired-computing/blob/vitoria/pso.ipynb\" target=\"_parent\"><img src=\"https://colab.research.google.com/assets/colab-badge.svg\" alt=\"Open In Colab\"/></a>"
      ]
    },
    {
      "cell_type": "code",
      "execution_count": 18,
      "metadata": {
        "id": "tFApT_jwj106"
      },
      "outputs": [],
      "source": [
        "from random import random\n",
        "from random import uniform\n",
        "from sklearn import svm\n",
        "import sklearn.model_selection as model_selection\n",
        "from sklearn.metrics import accuracy_score\n",
        "from sklearn.metrics import f1_score"
      ]
    },
    {
      "cell_type": "code",
      "source": [
        "# numero total de features disponiveis\n",
        "max_feature_id = 50"
      ],
      "metadata": {
        "id": "5_9KgWOWPB8o"
      },
      "execution_count": 5,
      "outputs": []
    },
    {
      "cell_type": "code",
      "source": [
        "# number of dimensions\n",
        "# i.e. feature number for each particle\n",
        "n_dimensions = 3\n",
        "\n",
        "# initial particles position\n",
        "# since we can't use the same feature repeated,\n",
        "# the initial position has features ranging from 0 to n_features\n",
        "initial_pos = []\n",
        "for i in range(n_dimensions):\n",
        "    initial_pos.append(i)\n",
        "\n",
        "# min and max values for the features\n",
        "# 0 is the id for the first feature,\n",
        "# and max_feature_id is the id for the last feature\n",
        "bounds = [(0, max_feature_id)]*n_dimensions\n",
        "\n",
        ""
      ],
      "metadata": {
        "id": "H0PjbhpIHczE"
      },
      "execution_count": 21,
      "outputs": []
    },
    {
      "cell_type": "code",
      "source": [
        "def cost_function(x):\n",
        "    total=0\n",
        "    for i in range(len(x)):\n",
        "        total+=x[i]**2\n",
        "    return total"
      ],
      "metadata": {
        "id": "s9Rgd-ZlFP-R"
      },
      "execution_count": null,
      "outputs": []
    },
    {
      "cell_type": "code",
      "source": [
        "class Particle:\n",
        "    def __init__(self, initial_pos):\n",
        "\n",
        "        self.position_i = []          # particle position, i.e. features\n",
        "        self.velocity_i = []          # particle velocity\n",
        "        self.pos_best_i = []          # best position individual\n",
        "        self.err_best_i = -1          # best error individual\n",
        "        self.err_i = -1               # error individual\n",
        "\n",
        "        # intiialize position\n",
        "        self.position_i = initial_pos\n",
        "        # intiialize velocity as values between -1 and 1\n",
        "        for i in range(0, n_dimensions):\n",
        "            self.velocity_i.append(uniform(-1,1))\n",
        "\n",
        "    # evaluate current fitness\n",
        "    def evaluate(self, costFunc):\n",
        "        self.err_i = costFunc(self.position_i)\n",
        "\n",
        "        # check to see if the current position is an individual best\n",
        "        if self.err_i < self.err_best_i or self.err_best_i == -1:\n",
        "            self.pos_best_i = self.position_i.copy()\n",
        "            self.err_best_i = self.err_i\n",
        "\n",
        "    # update new particle velocity\n",
        "    def update_velocity(self, pos_best_g, w, c1, c2):\n",
        "\n",
        "        # constant inertia weight (how much to weigh the previous velocity)\n",
        "        # cognitive constant (influences pbest)\n",
        "        # social constant (influences gbest)\n",
        "\n",
        "        for i in range(0, n_dimensions):\n",
        "\n",
        "            # non-deterministic values to prevent particles\n",
        "            # from getting stuck in local optima\n",
        "            r1 = random()\n",
        "            r2 = random()\n",
        "\n",
        "            # update cognitive and social\n",
        "            vel_cognitive = c1 * r1 * (self.pos_best_i[i] - self.position_i[i])\n",
        "            vel_social = c2 * r2 * (pos_best_g[i] - self.position_i[i])\n",
        "\n",
        "            self.velocity_i[i] = w * self.velocity_i[i] + vel_cognitive + vel_social\n",
        "\n",
        "\n",
        "# COLOCAR EM INT\n",
        "    # update the particle position based off new velocity updates\n",
        "    def update_position(self,bounds):\n",
        "        for i in range(0, n_dimensions):\n",
        "            self.position_i[i] = self.position_i[i] + self.velocity_i[i]\n",
        "\n",
        "            # adjust maximum position if necessary\n",
        "            if self.position_i[i] > bounds[i][1]:\n",
        "                self.position_i[i] = bounds[i][1]\n",
        "\n",
        "            # adjust minimum position if neseccary\n",
        "            if self.position_i[i] < bounds[i][0]:\n",
        "                self.position_i[i] = bounds[i][0]\n",
        "\n",
        "\n",
        "def minimize(cost_function, initial_pos, bounds, n_particles,\n",
        "             n_dimensions, maxiter, verbose=False):\n",
        "\n",
        "    err_best_g = -1                   # best error for group\n",
        "    pos_best_g = []                   # best position for group\n",
        "\n",
        "    # establish the swarm\n",
        "    swarm = []\n",
        "    for i in range(0, n_particles):\n",
        "        swarm.append(Particle(initial_pos, n_dimensions))\n",
        "\n",
        "    # begin optimization loop\n",
        "    i = 0\n",
        "    while i < maxiter:\n",
        "        if verbose: print(f'iter: {i:>4d}, best solution: {err_best_g:10.6f}')\n",
        "\n",
        "        # cycle through particles in swarm and evaluate fitness\n",
        "        for j in range(0, n_particles):\n",
        "            swarm[j].evaluate(cost_function)\n",
        "\n",
        "            # determine if current particle is the best (globally)\n",
        "            if swarm[j].err_i < err_best_g or err_best_g == -1:\n",
        "                pos_best_g = swarm[j].position_i\n",
        "                err_best_g = float(swarm[j].err_i)\n",
        "\n",
        "        # cycle through swarm and update velocities and position\n",
        "        for j in range(0, n_particles):\n",
        "            swarm[j].update_velocity(pos_best_g)\n",
        "            swarm[j].update_position(bounds)\n",
        "\n",
        "        i+=1\n",
        "\n",
        "    # print final results\n",
        "    if verbose:\n",
        "        print('\\nFINAL SOLUTION:')\n",
        "        print(f'   > {pos_best_g}')\n",
        "        print(f'   > {err_best_g}\\n')\n",
        "\n",
        "    return err_best_g, pos_best_g"
      ],
      "metadata": {
        "id": "zG9DOlZlERnr"
      },
      "execution_count": null,
      "outputs": []
    }
  ]
}