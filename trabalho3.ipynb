{
 "cells": [
  {
   "cell_type": "code",
   "execution_count": 3,
   "id": "742545c1-c72d-4a61-91f9-5beb7f96e669",
   "metadata": {},
   "outputs": [],
   "source": [
    "import cv2 as cv\n",
    "import numpy as np\n",
    "import os\n",
    "import pandas as pd\n",
    "import random\n",
    "from sklearn.model_selection import train_test_split\n",
    "from joblib import dump, load\n",
    "from sklearn.neural_network import MLPClassifier\n",
    "from matplotlib import pyplot as plt\n",
    "from sklearn.preprocessing import LabelEncoder\n",
    "from skimage.filters import prewitt_h,prewitt_v\n",
    "import matplotlib.pyplot as plt\n",
    "from joblib import dump, load"
   ]
  },
  {
   "cell_type": "code",
   "execution_count": 4,
   "id": "65f0d6f6-8e39-441b-b038-ea94964743db",
   "metadata": {},
   "outputs": [],
   "source": [
    "def read_images(input_path):\n",
    "    \"\"\"\n",
    "    Read images in the input_path, \n",
    "    save image, patient of each image and the class (group/labels)\n",
    "    \n",
    "    Params: \n",
    "    input_path = path to the original images \n",
    "    \n",
    "    Return:\n",
    "    images = list of all images\n",
    "    labels = list with class for each image\n",
    "    \"\"\"\n",
    "   \n",
    "    # Lists to save images, patients and labels\n",
    "    images = []\n",
    "    labels = []\n",
    "\n",
    "    # Browse input path\n",
    "    for class_dir in os.listdir(input_path):\n",
    "        class_path = os.path.join(input_path, class_dir)\n",
    "\n",
    "        # If it is a directory \n",
    "        if os.path.isdir(class_path):      \n",
    "\n",
    "            for image_file in os.listdir(class_path):\n",
    "                image_path = os.path.join(class_path, image_file)\n",
    "\n",
    "                image = cv.imread(image_path)\n",
    "\n",
    "                # Append image, patient id and class to list\n",
    "                images.append(image)            \n",
    "                labels.append(class_dir)    \n",
    "                \n",
    "    df = pd.DataFrame({'image': images, 'label': labels})\n",
    "    \n",
    "    # Create a LabelEncoder object\n",
    "    le = LabelEncoder()\n",
    "    le.fit(df['label'])\n",
    "    df['label'] = le.transform(df['label'])\n",
    "    \n",
    "    df = df.reset_index()\n",
    "                \n",
    "    return (images, labels)"
   ]
  },
  {
   "cell_type": "code",
   "execution_count": 5,
   "id": "2c0977a7-420e-4534-b391-89de12fba1b7",
   "metadata": {},
   "outputs": [],
   "source": [
    "x_train, y_train = read_images(\"/home/vsa/ufpr/cb/ufpr-bioinspired-comp/dataset/train\")\n",
    "x_test, y_test = read_images(\"/home/vsa/ufpr/cb/ufpr-bioinspired-comp/dataset/test\")"
   ]
  },
  {
   "cell_type": "code",
   "execution_count": 4,
   "id": "a6ab401f-3e54-4e1e-b373-137e04a0d124",
   "metadata": {},
   "outputs": [],
   "source": [
    "def extract_grayscale(data):\n",
    "    \n",
    "    ft_gray = [np.reshape(cv.cvtColor(image, cv.COLOR_BGR2GRAY), cv.cvtColor(image, cv.COLOR_BGR2GRAY).shape) for image in data]    \n",
    "    \n",
    "    return ft_gray"
   ]
  },
  {
   "cell_type": "code",
   "execution_count": 5,
   "id": "3fee49a2-9352-4fd8-b516-ed8e472a0e56",
   "metadata": {},
   "outputs": [],
   "source": [
    "def extract_mean_channels(data):\n",
    "    \n",
    "    ft_mean = []\n",
    "\n",
    "    for image in data:\n",
    "\n",
    "        shape = image.shape\n",
    "        matrix = np.zeros(shape) \n",
    "        matrix = np.mean(image, axis=2)\n",
    "        ft_mean.append(np.reshape(matrix, (shape[0], shape[1])))  \n",
    "            \n",
    "    return ft_mean     "
   ]
  },
  {
   "cell_type": "code",
   "execution_count": 6,
   "id": "8d0c8b36-8b56-4ec4-ac81-abf60f6c7f50",
   "metadata": {},
   "outputs": [],
   "source": [
    "def extract_edges(data):\n",
    "\n",
    "    ft_edges_h = []\n",
    "    ft_edges_v = []\n",
    "\n",
    "    for image in data:\n",
    "\n",
    "        image = cv.cvtColor(image, cv.COLOR_BGR2GRAY)\n",
    "        #calculating horizontal edges using prewitt kernel\n",
    "        edges_h = prewitt_h(image)\n",
    "        #calculating vertical edges using prewitt kernel\n",
    "        edges_v = prewitt_v(image)\n",
    "\n",
    "        #imshow(edges_prewitt_vertical, cmap='gray')\n",
    "        ft_edges_h.append(edges_h)\n",
    "        ft_edges_v.append(edges_v)\n",
    "        \n",
    "    return (ft_edges_h, ft_edges, v)"
   ]
  },
  {
   "cell_type": "code",
   "execution_count": 7,
   "id": "af9918c7-6b66-4eba-a6f1-3c380e75da83",
   "metadata": {},
   "outputs": [
    {
     "ename": "NameError",
     "evalue": "name 'extract_grayscale' is not defined",
     "output_type": "error",
     "traceback": [
      "\u001b[0;31m---------------------------------------------------------------------------\u001b[0m",
      "\u001b[0;31mNameError\u001b[0m                                 Traceback (most recent call last)",
      "Cell \u001b[0;32mIn[7], line 1\u001b[0m\n\u001b[0;32m----> 1\u001b[0m ft_gray \u001b[38;5;241m=\u001b[39m \u001b[43mextract_grayscale\u001b[49m(x_train)\n",
      "\u001b[0;31mNameError\u001b[0m: name 'extract_grayscale' is not defined"
     ]
    }
   ],
   "source": [
    "ft_gray = extract_grayscale(x_train)"
   ]
  },
  {
   "cell_type": "code",
   "execution_count": 16,
   "id": "0c0c8930-52ab-4813-a924-f060655712d2",
   "metadata": {},
   "outputs": [],
   "source": [
    "ft_mean = extract_mean_channels(x_train)"
   ]
  },
  {
   "cell_type": "code",
   "execution_count": 11,
   "id": "c9a6c670-ca58-4482-ac9e-a54dcbf23091",
   "metadata": {},
   "outputs": [
    {
     "data": {
      "text/plain": [
       "['ft_mean.joblib']"
      ]
     },
     "execution_count": 11,
     "metadata": {},
     "output_type": "execute_result"
    }
   ],
   "source": [
    "dump(ft_gray, 'ft_gray.joblib')\n",
    "dump(ft_mean, 'ft_mean.joblib')"
   ]
  },
  {
   "cell_type": "code",
   "execution_count": null,
   "id": "bff3bc68-d3af-4eec-8663-879ec4d85841",
   "metadata": {},
   "outputs": [],
   "source": [
    "ft_gray = load('ft_gray.joblib')\n",
    "ft_mean = load('ft_mean.joblib')"
   ]
  },
  {
   "cell_type": "code",
   "execution_count": null,
   "id": "8c9f0c64-2cc1-40d4-a28d-4fab83f389d9",
   "metadata": {},
   "outputs": [],
   "source": [
    "ft_edges_h, ft_edges_v = extract_edges(x_train)"
   ]
  },
  {
   "cell_type": "code",
   "execution_count": 1,
   "id": "e9829123-cdbf-4948-bbac-ff4112432733",
   "metadata": {
    "tags": []
   },
   "outputs": [
    {
     "ename": "NameError",
     "evalue": "name 'plt' is not defined",
     "output_type": "error",
     "traceback": [
      "\u001b[0;31m---------------------------------------------------------------------------\u001b[0m",
      "\u001b[0;31mNameError\u001b[0m                                 Traceback (most recent call last)",
      "\u001b[0;32m/tmp/ipykernel_20128/1132360182.py\u001b[0m in \u001b[0;36m<module>\u001b[0;34m\u001b[0m\n\u001b[0;32m----> 1\u001b[0;31m \u001b[0mplt\u001b[0m\u001b[0;34m.\u001b[0m\u001b[0mimshow\u001b[0m\u001b[0;34m(\u001b[0m\u001b[0mft_mean\u001b[0m\u001b[0;34m[\u001b[0m\u001b[0;36m0\u001b[0m\u001b[0;34m]\u001b[0m\u001b[0;34m)\u001b[0m\u001b[0;34m\u001b[0m\u001b[0;34m\u001b[0m\u001b[0m\n\u001b[0m",
      "\u001b[0;31mNameError\u001b[0m: name 'plt' is not defined"
     ]
    }
   ],
   "source": [
    "plt.imshow(ft_mean[0])"
   ]
  },
  {
   "cell_type": "code",
   "execution_count": null,
   "id": "fc52458a-f402-4de8-bc95-63e7e328717c",
   "metadata": {},
   "outputs": [],
   "source": [
    "# Grayscale Pixel Values done\n",
    "# Mean Pixel Value of Channels\n",
    "# edges"
   ]
  },
  {
   "cell_type": "code",
   "execution_count": null,
   "id": "1eca13d3-d9e5-4db0-ad61-df38312176ac",
   "metadata": {},
   "outputs": [],
   "source": []
  }
 ],
 "metadata": {
  "kernelspec": {
   "display_name": "sklearn-env",
   "language": "python",
   "name": "sklearn-env"
  },
  "language_info": {
   "codemirror_mode": {
    "name": "ipython",
    "version": 3
   },
   "file_extension": ".py",
   "mimetype": "text/x-python",
   "name": "python",
   "nbconvert_exporter": "python",
   "pygments_lexer": "ipython3",
   "version": "3.12.0"
  }
 },
 "nbformat": 4,
 "nbformat_minor": 5
}
