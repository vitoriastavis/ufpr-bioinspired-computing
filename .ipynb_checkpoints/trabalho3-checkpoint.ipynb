{
 "cells": [
  {
   "cell_type": "code",
   "execution_count": 2,
   "id": "742545c1-c72d-4a61-91f9-5beb7f96e669",
   "metadata": {
    "id": "742545c1-c72d-4a61-91f9-5beb7f96e669"
   },
   "outputs": [],
   "source": [
    "import cv2 as cv\n",
    "import numpy as np\n",
    "import os\n",
    "import pandas as pd\n",
    "import random\n",
    "from sklearn.model_selection import train_test_split\n",
    "from joblib import dump, load\n",
    "from sklearn.neural_network import MLPClassifier\n",
    "from matplotlib import pyplot as plt\n",
    "from sklearn.preprocessing import LabelEncoder\n",
    "import matplotlib.pyplot as plt\n",
    "from joblib import dump, load\n",
    "from PIL import Image, ImageFilter, ImageChops\n",
    "from skimage import feature\n",
    "from sklearn import svm\n",
    "import sklearn.model_selection as model_selection\n",
    "from sklearn.metrics import accuracy_score\n",
    "from sklearn.metrics import f1_score\n",
    "from skimage.transform import resize\n",
    "from skimage.feature import hog"
   ]
  },
  {
   "cell_type": "markdown",
   "id": "ada0c82c-1fd4-4ce4-b121-4809d54a8951",
   "metadata": {
    "id": "ada0c82c-1fd4-4ce4-b121-4809d54a8951"
   },
   "source": [
    "### Read images"
   ]
  },
  {
   "cell_type": "code",
   "execution_count": null,
   "id": "65f0d6f6-8e39-441b-b038-ea94964743db",
   "metadata": {
    "id": "65f0d6f6-8e39-441b-b038-ea94964743db",
    "jupyter": {
     "source_hidden": true
    },
    "tags": []
   },
   "outputs": [],
   "source": [
    "def read_images(input_path):\n",
    "    \"\"\"\n",
    "    Read images in the input_path,\n",
    "    save image, patient of each image and the class (group/labels)\n",
    "\n",
    "    Params:\n",
    "    input_path = path to the original images\n",
    "\n",
    "    Return:\n",
    "    images = list of all images\n",
    "    labels = list with class for each image\n",
    "    \"\"\"\n",
    "\n",
    "    # Lists to save images, patients and labels\n",
    "    images = []\n",
    "    labels = []\n",
    "    names = []\n",
    "\n",
    "    # Browse input path\n",
    "    for class_dir in os.listdir(input_path):\n",
    "        class_path = os.path.join(input_path, class_dir)\n",
    "\n",
    "        # If it is a directory\n",
    "        if os.path.isdir(class_path):\n",
    "\n",
    "            for image_file in os.listdir(class_path):\n",
    "\n",
    "                image_name = f'{image_file[:-4]}_{class_dir[0]}'\n",
    "\n",
    "                image_path = os.path.join(class_path, image_file)\n",
    "\n",
    "                image = cv.imread(image_path, cv.IMREAD_GRAYSCALE)\n",
    "\n",
    "                # Append image, patient id and class to list\n",
    "                images.append(image)\n",
    "                labels.append(class_dir)\n",
    "                names.append(image_name)\n",
    "\n",
    "    return (images, labels, names)"
   ]
  },
  {
   "cell_type": "code",
   "execution_count": null,
   "id": "577f2cfd-e006-4f9e-9e14-16ac2e66e494",
   "metadata": {
    "id": "577f2cfd-e006-4f9e-9e14-16ac2e66e494"
   },
   "outputs": [],
   "source": [
    "%%bash\n",
    "wget -q https://www.inf.ufpr.br/vsa20/dataset.tar.gz\n",
    "#curl -0 https://www.inf.ufpr.br/vsa20/dataset.tar.gz\n",
    "tar -xf /content/dataset.tar.gz"
   ]
  },
  {
   "cell_type": "markdown",
   "id": "612301d9-ec64-494a-b58f-3325b56de4bf",
   "metadata": {
    "id": "612301d9-ec64-494a-b58f-3325b56de4bf"
   },
   "source": [
    "### Preprocessing"
   ]
  },
  {
   "cell_type": "code",
   "execution_count": null,
   "id": "90b62c8a-ff2e-4bc9-abf0-bb91a36a353c",
   "metadata": {
    "id": "90b62c8a-ff2e-4bc9-abf0-bb91a36a353c"
   },
   "outputs": [],
   "source": [
    "def preprocessing(images_data):\n",
    "\n",
    "    for key, value in images_data.items():\n",
    "\n",
    "        image = value[0]\n",
    "        label = value[1]\n",
    "\n",
    "        norm_image = cv.normalize(image, None, 0, 1.0, cv.NORM_MINMAX, dtype=cv.CV_16UC1)\n",
    "        blur_image = cv.GaussianBlur(norm_image, (0, 0), 2)\n",
    "\n",
    "        images_data[key] = (blur_image, label)\n",
    "\n",
    "    return images_data"
   ]
  },
  {
   "cell_type": "code",
   "execution_count": null,
   "id": "U1ungD3DAMEi",
   "metadata": {
    "id": "U1ungD3DAMEi"
   },
   "outputs": [],
   "source": [
    "x_train, y_train, images_names_train = read_images(\"/content/dataset/train\")\n",
    "x_test, y_test, images_names_test = read_images(\"/content/dataset/test\")"
   ]
  },
  {
   "cell_type": "code",
   "execution_count": null,
   "id": "KOf97HZKsVq1",
   "metadata": {
    "id": "KOf97HZKsVq1"
   },
   "outputs": [],
   "source": [
    "def assemble_data(x, y, names):\n",
    "\n",
    "  images_data = {}\n",
    "\n",
    "  for i in range(len(names)):\n",
    "      name = names[i]\n",
    "      image = x[i]\n",
    "      label = y[i]\n",
    "\n",
    "      images_data[name] = (image, label)\n",
    "\n",
    "  return images_data\n",
    "\n",
    "images_data_train = assemble_data(x_train, y_train, images_names_train)\n",
    "images_data_test = assemble_data(x_test, y_test, images_names_test)"
   ]
  },
  {
   "cell_type": "code",
   "execution_count": null,
   "id": "_Nt2rfB81bg_",
   "metadata": {
    "id": "_Nt2rfB81bg_"
   },
   "outputs": [],
   "source": [
    "# Run preprocessing\n",
    "images_data_train = preprocessing(images_data_train)\n",
    "images_data_test = preprocessing(images_data_test)"
   ]
  },
  {
   "cell_type": "code",
   "execution_count": null,
   "id": "bW9XkMeT3sNt",
   "metadata": {
    "id": "bW9XkMeT3sNt"
   },
   "outputs": [],
   "source": [
    "def augmentation(data, label):\n",
    "\n",
    "    augmented = []\n",
    "    degrees = [cv.ROTATE_90_COUNTERCLOCKWISE, cv.ROTATE_90_CLOCKWISE, cv.ROTATE_180]\n",
    "    for image in data:\n",
    "\n",
    "        # Flip the image horizontally\n",
    "        image = cv.flip(image, random.randint(0, 1))\n",
    "\n",
    "        # Rotate the image by 90 degrees\n",
    "        image = cv.rotate(image, random.sample(degrees, 1)[0])\n",
    "\n",
    "        # Resize the image to half its original size\n",
    "        image = cv.resize(image, (0, 0), fx=random.uniform(0.3, 0.6), fy=random.uniform(0.3, 0.8))\n",
    "\n",
    "        augmented.append(image)\n",
    "\n",
    "    images_aug = {f'augmented{i}':(augmented[i], label) for i in range(len(augmented))}\n",
    "\n",
    "    return images_aug"
   ]
  },
  {
   "cell_type": "code",
   "execution_count": null,
   "id": "n2nY4xlyAai3",
   "metadata": {
    "id": "n2nY4xlyAai3"
   },
   "outputs": [],
   "source": [
    "# Data augmentation for class 2 - no_tumor\n",
    "train_labels = list(df_train['label'])\n",
    "class2_imgs_train = [x_train[i] for i in range(len(train_labels)) if train_labels[i]==2]\n",
    "\n",
    "images_train_aug = augmentation(class2_imgs_train, 2)"
   ]
  },
  {
   "cell_type": "code",
   "execution_count": null,
   "id": "B-vSwUBOpxk-",
   "metadata": {
    "id": "B-vSwUBOpxk-"
   },
   "outputs": [],
   "source": [
    "images_data_train.update(images_train_aug)"
   ]
  },
  {
   "cell_type": "markdown",
   "id": "28b45775-5303-41f5-b1f9-6d2d5d002f35",
   "metadata": {
    "id": "28b45775-5303-41f5-b1f9-6d2d5d002f35"
   },
   "source": [
    "### Extract features"
   ]
  },
  {
   "cell_type": "code",
   "execution_count": null,
   "id": "AwWMfblyZTi0",
   "metadata": {
    "id": "AwWMfblyZTi0"
   },
   "outputs": [],
   "source": [
    "# Extract features: HOG\n",
    "def extract_hog(images_data, max_len = None):\n",
    "\n",
    "    hogs = []\n",
    "\n",
    "    for key, value in images_data.items():\n",
    "\n",
    "        image = value[0]\n",
    "\n",
    "        image = resize(image, (image.shape[0]//5, image.shape[1]//5))\n",
    "        fd = hog(image, orientations=9, pixels_per_cell=(8, 8),\n",
    "                        cells_per_block=(2, 2), multichannel=False)\n",
    "\n",
    "        hogs.append(np.array(fd))\n",
    "\n",
    "    if max_len == None:\n",
    "        max_len = max(len(desc) for desc in hogs)\n",
    "\n",
    "    padded = []\n",
    "    for h in hogs:\n",
    "        # Wrap the padding width in a list to make it a 2D array\n",
    "        padded_width = [(0, max_len - len(h))]\n",
    "\n",
    "        padded_d = np.pad(h, padded_width)\n",
    "        padded.append(padded_d)\n",
    "\n",
    "    return padded, max_len"
   ]
  },
  {
   "cell_type": "code",
   "execution_count": null,
   "id": "1zgHKjGlq8yC",
   "metadata": {
    "colab": {
     "base_uri": "https://localhost:8080/"
    },
    "id": "1zgHKjGlq8yC",
    "outputId": "b35189e8-bbc9-4da8-c975-2db87e57f18c"
   },
   "outputs": [
    {
     "name": "stderr",
     "output_type": "stream",
     "text": [
      "<ipython-input-25-b10eb2d61f24>:11: FutureWarning: `multichannel` is a deprecated argument name for `hog`. It will be removed in version 1.0. Please use `channel_axis` instead.\n",
      "  fd = hog(image, orientations=9, pixels_per_cell=(8, 8),\n"
     ]
    }
   ],
   "source": [
    "ft_hog_train, max_len = extract_hog(images_data_train)"
   ]
  },
  {
   "cell_type": "code",
   "execution_count": null,
   "id": "UIUXEMuQr8sV",
   "metadata": {
    "colab": {
     "base_uri": "https://localhost:8080/"
    },
    "id": "UIUXEMuQr8sV",
    "outputId": "4bf16479-b567-445f-a788-e89db4c9754b"
   },
   "outputs": [
    {
     "name": "stderr",
     "output_type": "stream",
     "text": [
      "<ipython-input-25-b10eb2d61f24>:11: FutureWarning: `multichannel` is a deprecated argument name for `hog`. It will be removed in version 1.0. Please use `channel_axis` instead.\n",
      "  fd = hog(image, orientations=9, pixels_per_cell=(8, 8),\n"
     ]
    }
   ],
   "source": [
    "ft_hog_test, _ = extract_hog(images_data_test, max_len)"
   ]
  },
  {
   "cell_type": "code",
   "execution_count": null,
   "id": "i4zq_0o_f_8L",
   "metadata": {
    "id": "i4zq_0o_f_8L"
   },
   "outputs": [],
   "source": [
    "names_hog = [f'hog{i}' for i in range(len(ft_hog_train[0]))]"
   ]
  },
  {
   "cell_type": "code",
   "execution_count": null,
   "id": "922ed439-2534-4d35-960b-eac7d18b0c3b",
   "metadata": {
    "id": "922ed439-2534-4d35-960b-eac7d18b0c3b"
   },
   "outputs": [],
   "source": [
    "# Extract features: LBP\n",
    "def extract_lbp(images_data, eps=1e-7, points=24, radius=8):\n",
    "\n",
    "    ft_lbp = []\n",
    "\n",
    "    for key, value in images_data.items():\n",
    "\n",
    "        image = value[0]\n",
    "\n",
    "        lbp = feature.local_binary_pattern(image,\n",
    "                                           points,\n",
    "                                           radius,\n",
    "                                           method=\"uniform\")\n",
    "\n",
    "        (hist, _) = np.histogram(lbp.ravel(),\n",
    "                                 bins = np.arange(0, points + 3),\n",
    "                                                 range=(0, points + 2))\n",
    "\n",
    "        # normalize the histogram\n",
    "        hist = hist.astype(\"float\")\n",
    "        hist /= (hist.sum() + eps)\n",
    "\n",
    "        ft_lbp.append(hist)\n",
    "\n",
    "    # return the histogram of Local Binary Patterns\n",
    "    return ft_lbp"
   ]
  },
  {
   "cell_type": "code",
   "execution_count": null,
   "id": "e327e85e-aa05-49fd-a4a6-743b794455ea",
   "metadata": {
    "id": "e327e85e-aa05-49fd-a4a6-743b794455ea"
   },
   "outputs": [],
   "source": [
    "ft_lbp_train = extract_lbp(images_data_train)"
   ]
  },
  {
   "cell_type": "code",
   "execution_count": null,
   "id": "uP1vaTrGFbPz",
   "metadata": {
    "id": "uP1vaTrGFbPz"
   },
   "outputs": [],
   "source": [
    "ft_lbp_test = extract_lbp(images_data_test)"
   ]
  },
  {
   "cell_type": "code",
   "execution_count": null,
   "id": "FXGIU7Zxs7Ta",
   "metadata": {
    "id": "FXGIU7Zxs7Ta"
   },
   "outputs": [],
   "source": [
    "names_lbp = [f'lbp{i}' for i in range(len(ft_lbp_train[0]))]"
   ]
  },
  {
   "cell_type": "markdown",
   "id": "1xg791p1KLVn",
   "metadata": {
    "id": "1xg791p1KLVn"
   },
   "source": [
    "Save all features and feature names"
   ]
  },
  {
   "cell_type": "code",
   "execution_count": null,
   "id": "6SNnJw4HlfAp",
   "metadata": {
    "id": "6SNnJw4HlfAp"
   },
   "outputs": [],
   "source": [
    "def save_features(features, images_names, out_path):\n",
    "\n",
    "    ft_dict = {images_names[i]:features[i] for i in range(len(images_names))} #dict(zip(image_names, features))\n",
    "\n",
    "    os.makedirs(out_path, exist_ok=True)\n",
    "\n",
    "    for key, value in ft_dict.items():\n",
    "\n",
    "        filename = f'{key}.txt'\n",
    "\n",
    "        with open(os.path.join(out_path, filename), 'w') as f:\n",
    "            for elem in value:\n",
    "                f.write(f'{elem}\\n')"
   ]
  },
  {
   "cell_type": "code",
   "execution_count": null,
   "id": "R3rfvJIqmtEH",
   "metadata": {
    "id": "R3rfvJIqmtEH"
   },
   "outputs": [],
   "source": [
    "# Save features as .txt\n",
    "save_features(ft_lbp_train, images_names_train, 'ft_lbp_train_aug')\n",
    "save_features(ft_lbp_test, images_names_test, 'ft_lbp_test')\n",
    "\n",
    "save_features(ft_hog_train, images_names_train, 'ft_hog_train_aug')\n",
    "save_features(ft_hog_test, images_names_test, 'ft_hog_test')"
   ]
  },
  {
   "cell_type": "code",
   "execution_count": null,
   "id": "MCdsyfyaKGfg",
   "metadata": {
    "colab": {
     "base_uri": "https://localhost:8080/",
     "height": 1000
    },
    "id": "MCdsyfyaKGfg",
    "outputId": "c9559282-7187-4c52-e6fd-1dd786837d15"
   },
   "outputs": [
    {
     "name": "stdout",
     "output_type": "stream",
     "text": [
      "updating: content/ft_hog_test/ (stored 0%)\n",
      "updating: content/ft_hog_test/image(104)_n.txt (deflated 97%)\n",
      "updating: content/ft_hog_test/image(15)_m.txt (deflated 92%)\n",
      "updating: content/ft_hog_test/image(29)_g.txt (deflated 92%)\n",
      "updating: content/ft_hog_test/image(13)_g.txt (deflated 92%)\n",
      "updating: content/ft_hog_test/image(80)_g.txt (deflated 93%)\n",
      "updating: content/ft_hog_test/image(42)_m.txt (deflated 96%)\n",
      "updating: content/ft_hog_test/image(78)_p.txt (deflated 95%)\n",
      "updating: content/ft_hog_test/image(91)_p.txt (deflated 83%)\n",
      "updating: content/ft_hog_test/image(5)_n.txt (deflated 96%)\n",
      "updating: content/ft_hog_test/image(84)_n.txt (deflated 97%)\n",
      "updating: content/ft_hog_test/image(113)_m.txt (deflated 91%)\n",
      "updating: content/ft_hog_test/image(88)_g.txt (deflated 89%)\n",
      "updating: content/ft_hog_test/image(30)_g.txt (deflated 96%)\n",
      "updating: content/ft_hog_test/image(32)_g.txt (deflated 95%)\n",
      "updating: content/ft_hog_test/image(17)_n.txt (deflated 97%)\n",
      "updating: content/ft_hog_test/image(66)_m.txt (deflated 97%)\n",
      "updating: content/ft_hog_test/image(5)_g.txt (deflated 92%)\n",
      "updating: content/ft_hog_test/image(16)_n.txt (deflated 98%)\n",
      "updating: content/ft_hog_test/image(38)_g.txt (deflated 94%)\n",
      "updating: content/ft_hog_test/image(4)_n.txt (deflated 100%)\n",
      "updating: content/ft_hog_test/image(12)_m.txt (deflated 98%)\n",
      "updating: content/ft_hog_test/image(112)_m.txt (deflated 98%)\n",
      "updating: content/ft_hog_test/image(93)_n.txt (deflated 97%)\n",
      "updating: content/ft_hog_test/image(47)_n.txt (deflated 98%)\n",
      "updating: content/ft_hog_test/image(32)_n.txt (deflated 96%)\n",
      "updating: content/ft_hog_test/image(8)_g.txt (deflated 92%)\n",
      "updating: content/ft_hog_test/image(59)_m.txt (deflated 95%)\n",
      "updating: content/ft_hog_test/image(44)_g.txt (deflated 97%)\n",
      "updating: content/ft_hog_test/image(61)_m.txt (deflated 93%)\n",
      "updating: content/ft_hog_test/image(61)_g.txt (deflated 93%)\n",
      "updating: content/ft_hog_test/image(62)_g.txt (deflated 94%)\n",
      "updating: content/ft_hog_test/image(44)_p.txt (deflated 62%)\n",
      "updating: content/ft_hog_test/image(37)_g.txt (deflated 91%)\n",
      "updating: content/ft_hog_test/image(82)_n.txt (deflated 98%)\n",
      "updating: content/ft_hog_test/image(65)_m.txt (deflated 95%)\n",
      "updating: content/ft_hog_test/image(31)_p.txt (deflated 95%)\n",
      "updating: content/ft_hog_test/image(51)_g.txt (deflated 98%)\n",
      "updating: content/ft_hog_test/image(79)_m.txt (deflated 98%)\n",
      "updating: content/ft_hog_test/image(3)_m.txt (deflated 97%)\n",
      "updating: content/ft_hog_test/image(89)_n.txt (deflated 97%)\n",
      "updating: content/ft_hog_test/image(13)_p.txt (deflated 98%)\n",
      "updating: content/ft_hog_test/image(46)_g.txt (deflated 90%)\n",
      "updating: content/ft_hog_test/image(91)_n.txt (deflated 98%)\n",
      "updating: content/ft_hog_test/image(62)_m.txt (deflated 93%)\n",
      "updating: content/ft_hog_test/image(69)_n.txt (deflated 98%)\n",
      "updating: content/ft_hog_test/image(31)_g.txt (deflated 90%)\n",
      "updating: content/ft_hog_test/image(17)_g.txt (deflated 91%)\n",
      "updating: content/ft_hog_test/image(87)_m.txt (deflated 98%)\n",
      "updating: content/ft_hog_test/image(64)_p.txt (deflated 98%)\n",
      "updating: content/ft_hog_test/image(25)_m.txt (deflated 90%)\n",
      "updating: content/ft_hog_test/image(68)_g.txt (deflated 95%)\n",
      "updating: content/ft_hog_test/image(124)_m.txt (deflated 87%)\n",
      "updating: content/ft_hog_test/image(27)_g.txt (deflated 89%)\n",
      "updating: content/ft_hog_test/image(55)_p.txt (deflated 62%)\n",
      "updating: content/ft_hog_test/image(79)_n.txt (deflated 98%)\n",
      "updating: content/ft_hog_test/image(10)_n.txt (deflated 98%)\n",
      "updating: content/ft_hog_test/image(90)_p.txt (deflated 83%)\n",
      "updating: content/ft_hog_test/image(52)_g.txt (deflated 87%)\n",
      "updating: content/ft_hog_test/image(24)_n.txt (deflated 98%)\n",
      "updating: content/ft_hog_test/image(47)_p.txt (deflated 97%)\n",
      "updating: content/ft_hog_test/image(78)_n.txt (deflated 97%)\n",
      "updating: content/ft_hog_test/image(24)_m.txt (deflated 87%)\n",
      "updating: content/ft_hog_test/image(85)_p.txt (deflated 92%)\n",
      "updating: content/ft_hog_test/image(98)_p.txt (deflated 84%)\n",
      "updating: content/ft_hog_test/image(99)_g.txt (deflated 88%)\n",
      "updating: content/ft_hog_test/image(72)_g.txt (deflated 93%)\n",
      "updating: content/ft_hog_test/image(54)_p.txt (deflated 62%)\n",
      "updating: content/ft_hog_test/image(86)_m.txt (deflated 96%)\n",
      "updating: content/ft_hog_test/image(6)_m.txt (deflated 91%)\n",
      "updating: content/ft_hog_test/image(52)_p.txt (deflated 90%)\n",
      "updating: content/ft_hog_test/image(19)_m.txt (deflated 97%)\n",
      "updating: content/ft_hog_test/image(45)_m.txt (deflated 92%)\n",
      "updating: content/ft_hog_test/image(4)_g.txt (deflated 94%)\n",
      "updating: content/ft_hog_test/image(97)_g.txt (deflated 90%)\n",
      "updating: content/ft_hog_test/image(46)_n.txt (deflated 98%)\n",
      "updating: content/ft_hog_test/image(67)_n.txt (deflated 97%)\n",
      "updating: content/ft_hog_test/image(86)_n.txt (deflated 98%)\n",
      "updating: content/ft_hog_test/image(57)_n.txt (deflated 99%)\n",
      "updating: content/ft_hog_test/image(127)_m.txt (deflated 86%)\n",
      "updating: content/ft_hog_test/image(35)_p.txt (deflated 97%)\n",
      "updating: content/ft_hog_test/image(100)_g.txt (deflated 95%)\n",
      "updating: content/ft_hog_test/image(60)_p.txt (deflated 90%)\n",
      "updating: content/ft_hog_test/image_n.txt (deflated 97%)\n",
      "updating: content/ft_hog_test/image(77)_m.txt (deflated 97%)\n",
      "updating: content/ft_hog_test/image_p.txt (deflated 92%)\n",
      "updating: content/ft_hog_test/image(89)_m.txt (deflated 98%)\n",
      "updating: content/ft_hog_test/image(63)_n.txt (deflated 98%)\n",
      "updating: content/ft_hog_test/image(28)_n.txt (deflated 97%)\n",
      "updating: content/ft_hog_test/image(40)_g.txt (deflated 93%)\n",
      "updating: content/ft_hog_test/image(22)_n.txt (deflated 98%)\n",
      "updating: content/ft_hog_test/image(8)_m.txt (deflated 92%)\n",
      "updating: content/ft_hog_test/image(21)_m.txt (deflated 95%)\n",
      "updating: content/ft_hog_test/image(60)_n.txt (deflated 98%)\n",
      "updating: content/ft_hog_test/image(84)_m.txt (deflated 98%)\n",
      "updating: content/ft_hog_test/image(34)_m.txt (deflated 92%)\n",
      "updating: content/ft_hog_test/image(76)_p.txt (deflated 95%)\n",
      "updating: content/ft_hog_test/image(43)_g.txt (deflated 93%)\n",
      "updating: content/ft_hog_test/image(21)_n.txt (deflated 98%)\n",
      "updating: content/ft_hog_test/image(49)_m.txt (deflated 91%)\n",
      "updating: content/ft_hog_test/image(49)_g.txt (deflated 98%)\n",
      "updating: content/ft_hog_test/image(106)_m.txt (deflated 85%)\n",
      "updating: content/ft_hog_test/image(90)_n.txt (deflated 97%)\n",
      "updating: content/ft_hog_test/image(27)_n.txt (deflated 99%)\n",
      "updating: content/ft_hog_test/image(41)_p.txt (deflated 90%)\n",
      "updating: content/ft_hog_test/image(18)_n.txt (deflated 96%)\n",
      "updating: content/ft_hog_test/image(2)_m.txt (deflated 94%)\n",
      "updating: content/ft_hog_test/image(19)_p.txt (deflated 90%)\n",
      "updating: content/ft_hog_test/image(126)_m.txt (deflated 83%)\n",
      "updating: content/ft_hog_test/image(60)_m.txt (deflated 93%)\n",
      "updating: content/ft_hog_test/image(58)_g.txt (deflated 98%)\n",
      "updating: content/ft_hog_test/image(33)_n.txt (deflated 98%)\n",
      "updating: content/ft_hog_test/image(36)_n.txt (deflated 99%)\n",
      "updating: content/ft_hog_test/image(81)_m.txt (deflated 98%)\n",
      "updating: content/ft_hog_test/image(61)_p.txt (deflated 90%)\n",
      "updating: content/ft_hog_test/image(68)_p.txt (deflated 72%)\n",
      "updating: content/ft_hog_test/image(9)_m.txt (deflated 94%)\n",
      "updating: content/ft_hog_test/image(90)_g.txt (deflated 89%)\n",
      "updating: content/ft_hog_test/image(13)_n.txt (deflated 97%)\n",
      "updating: content/ft_hog_test/image(20)_p.txt (deflated 90%)\n",
      "updating: content/ft_hog_test/image(93)_p.txt (deflated 91%)\n",
      "updating: content/ft_hog_test/image(42)_p.txt (deflated 90%)\n",
      "updating: content/ft_hog_test/image(23)_p.txt (deflated 93%)\n",
      "updating: content/ft_hog_test/image(16)_m.txt (deflated 97%)\n",
      "updating: content/ft_hog_test/image(53)_n.txt (deflated 97%)\n",
      "updating: content/ft_hog_test/image(74)_m.txt (deflated 98%)\n",
      "updating: content/ft_hog_test/image(18)_m.txt (deflated 88%)\n",
      "updating: content/ft_hog_test/image(19)_g.txt (deflated 97%)\n",
      "updating: content/ft_hog_test/image(79)_g.txt (deflated 92%)\n",
      "updating: content/ft_hog_test/image(97)_m.txt (deflated 97%)\n",
      "updating: content/ft_hog_test/image(77)_g.txt (deflated 93%)\n",
      "updating: content/ft_hog_test/image(63)_p.txt (deflated 98%)\n",
      "updating: content/ft_hog_test/image(96)_n.txt (deflated 97%)\n",
      "updating: content/ft_hog_test/image(55)_n.txt (deflated 98%)\n",
      "updating: content/ft_hog_test/image(67)_m.txt (deflated 93%)\n",
      "updating: content/ft_hog_test/image(3)_g.txt (deflated 97%)\n",
      "updating: content/ft_hog_test/image(96)_p.txt (deflated 91%)\n",
      "updating: content/ft_hog_test/image(89)_p.txt (deflated 83%)\n",
      "updating: content/ft_hog_test/image(82)_p.txt (deflated 92%)\n",
      "updating: content/ft_hog_test/image(53)_m.txt (deflated 96%)\n",
      "updating: content/ft_hog_test/image(48)_n.txt (deflated 97%)\n",
      "updating: content/ft_hog_test/image(23)_n.txt (deflated 97%)\n",
      "updating: content/ft_hog_test/image(21)_p.txt (deflated 90%)\n",
      "updating: content/ft_hog_test/image(42)_g.txt (deflated 87%)\n",
      "updating: content/ft_hog_test/image(64)_m.txt (deflated 97%)\n",
      "updating: content/ft_hog_test/image(27)_p.txt (deflated 68%)\n",
      "updating: content/ft_hog_test/image(51)_m.txt (deflated 94%)\n",
      "updating: content/ft_hog_test/image(48)_m.txt (deflated 96%)\n",
      "updating: content/ft_hog_test/image(33)_g.txt (deflated 97%)\n",
      "updating: content/ft_hog_test/image(50)_g.txt (deflated 96%)\n",
      "updating: content/ft_hog_test/image(20)_n.txt (deflated 100%)\n",
      "updating: content/ft_hog_test/image(77)_n.txt (deflated 99%)\n",
      "updating: content/ft_hog_test/image(88)_m.txt (deflated 97%)\n",
      "updating: content/ft_hog_test/image(48)_p.txt (deflated 97%)\n",
      "updating: content/ft_hog_test/image(61)_n.txt (deflated 98%)\n",
      "updating: content/ft_hog_test/image(54)_m.txt (deflated 98%)\n",
      "updating: content/ft_hog_test/image(82)_g.txt (deflated 86%)\n",
      "updating: content/ft_hog_test/image(34)_g.txt (deflated 92%)\n",
      "updating: content/ft_hog_test/image(10)_m.txt (deflated 96%)\n",
      "updating: content/ft_hog_test/image(103)_n.txt (deflated 98%)\n",
      "updating: content/ft_hog_test/image(36)_m.txt (deflated 97%)\n",
      "updating: content/ft_hog_test/image(67)_g.txt (deflated 94%)\n",
      "updating: content/ft_hog_test/image(40)_n.txt (deflated 95%)\n",
      "updating: content/ft_hog_test/image(28)_m.txt (deflated 93%)\n",
      "updating: content/ft_hog_test/image(39)_n.txt (deflated 98%)\n",
      "updating: content/ft_hog_test/image(26)_g.txt (deflated 90%)\n",
      "updating: content/ft_hog_test/image(70)_p.txt (deflated 93%)\n",
      "updating: content/ft_hog_test/image(59)_n.txt (deflated 98%)\n",
      "updating: content/ft_hog_test/image(107)_m.txt (deflated 93%)\n",
      "updating: content/ft_hog_test/image(79)_p.txt (deflated 92%)\n",
      "updating: content/ft_hog_test/image(59)_g.txt (deflated 91%)\n",
      "updating: content/ft_hog_test/image(65)_p.txt (deflated 95%)\n",
      "updating: content/ft_hog_test/image(7)_m.txt (deflated 92%)\n",
      "updating: content/ft_hog_test/image(66)_p.txt (deflated 95%)\n",
      "updating: content/ft_hog_test/image(72)_m.txt (deflated 97%)\n",
      "updating: content/ft_hog_test/image(81)_p.txt (deflated 92%)\n",
      "updating: content/ft_hog_test/image(55)_m.txt (deflated 96%)\n",
      "updating: content/ft_hog_test/image(69)_g.txt (deflated 92%)\n",
      "updating: content/ft_hog_test/image(18)_p.txt (deflated 95%)\n",
      "updating: content/ft_hog_test/image_g.txt (deflated 85%)\n",
      "updating: content/ft_hog_test/image(72)_n.txt (deflated 100%)\n",
      "updating: content/ft_hog_test/image(30)_m.txt (deflated 97%)\n",
      "updating: content/ft_hog_test/image(71)_m.txt (deflated 97%)\n",
      "updating: content/ft_hog_test/image(91)_g.txt (deflated 88%)\n",
      "updating: content/ft_hog_test/image(87)_n.txt (deflated 96%)\n",
      "updating: content/ft_hog_test/image(67)_p.txt (deflated 72%)\n",
      "updating: content/ft_hog_test/image(58)_n.txt (deflated 97%)\n",
      "updating: content/ft_hog_test/image(1)_p.txt (deflated 92%)\n",
      "updating: content/ft_hog_test/image(15)_n.txt (deflated 97%)\n",
      "updating: content/ft_hog_test/image(88)_n.txt (deflated 96%)\n",
      "updating: content/ft_hog_test/image(11)_n.txt (deflated 98%)\n",
      "updating: content/ft_hog_test/image(15)_p.txt (deflated 75%)\n",
      "updating: content/ft_hog_test/image(85)_g.txt (deflated 97%)\n",
      "updating: content/ft_hog_test/image(60)_g.txt (deflated 92%)\n",
      "updating: content/ft_hog_test/image(65)_g.txt (deflated 90%)\n",
      "updating: content/ft_hog_test/image(81)_g.txt (deflated 93%)\n",
      "updating: content/ft_hog_test/image(95)_g.txt (deflated 85%)\n",
      "updating: content/ft_hog_test/image(30)_n.txt (deflated 98%)\n",
      "updating: content/ft_hog_test/image(39)_m.txt (deflated 93%)\n",
      "updating: content/ft_hog_test/image(54)_n.txt (deflated 98%)\n",
      "updating: content/ft_hog_test/image(121)_m.txt (deflated 91%)\n",
      "updating: content/ft_hog_test/image(13)_m.txt (deflated 94%)\n",
      "updating: content/ft_hog_test/image(26)_n.txt (deflated 99%)\n",
      "updating: content/ft_hog_test/image(8)_p.txt (deflated 98%)\n",
      "updating: content/ft_hog_test/image(85)_n.txt (deflated 98%)\n",
      "updating: content/ft_hog_test/image(20)_m.txt (deflated 97%)\n",
      "updating: content/ft_hog_test/image(39)_g.txt (deflated 94%)\n",
      "updating: content/ft_hog_test/image(46)_p.txt (deflated 62%)\n",
      "updating: content/ft_hog_test/image_m.txt (deflated 94%)\n",
      "updating: content/ft_hog_test/image(58)_m.txt (deflated 94%)\n",
      "updating: content/ft_hog_test/image(82)_m.txt (deflated 98%)\n",
      "updating: content/ft_hog_test/image(45)_p.txt (deflated 62%)\n",
      "updating: content/ft_hog_test/image(73)_p.txt (deflated 94%)\n",
      "updating: content/ft_hog_test/image(7)_n.txt (deflated 98%)\n",
      "updating: content/ft_hog_test/image(98)_n.txt (deflated 99%)\n",
      "updating: content/ft_hog_test/image(57)_p.txt (deflated 98%)\n",
      "updating: content/ft_hog_test/image(38)_p.txt (deflated 90%)\n",
      "updating: content/ft_hog_test/image(24)_g.txt (deflated 95%)\n",
      "updating: content/ft_hog_test/image(1)_m.txt (deflated 94%)\n",
      "updating: content/ft_hog_test/image(29)_m.txt (deflated 97%)\n",
      "updating: content/ft_hog_test/image(10)_p.txt (deflated 93%)\n",
      "updating: content/ft_hog_test/image(34)_n.txt (deflated 97%)\n",
      "updating: content/ft_hog_test/image(75)_n.txt (deflated 97%)\n",
      "updating: content/ft_hog_test/image(94)_m.txt (deflated 97%)\n",
      "updating: content/ft_hog_test/image(94)_n.txt (deflated 97%)\n",
      "updating: content/ft_hog_test/image(26)_m.txt (deflated 87%)\n",
      "updating: content/ft_hog_test/image(86)_g.txt (deflated 94%)\n",
      "updating: content/ft_hog_test/image(27)_m.txt (deflated 93%)\n",
      "updating: content/ft_hog_test/image(125)_m.txt (deflated 95%)\n",
      "updating: content/ft_hog_test/image(70)_g.txt (deflated 93%)\n",
      "updating: content/ft_hog_test/image(120)_m.txt (deflated 86%)\n",
      "updating: content/ft_hog_test/image(76)_m.txt (deflated 97%)\n",
      "updating: content/ft_hog_test/image(32)_m.txt (deflated 94%)\n",
      "updating: content/ft_hog_test/image(92)_g.txt (deflated 85%)\n",
      "updating: content/ft_hog_test/image(52)_m.txt (deflated 98%)\n",
      "updating: content/ft_hog_test/image(93)_g.txt (deflated 98%)\n",
      "updating: content/ft_hog_test/image(19)_n.txt (deflated 98%)\n",
      "updating: content/ft_hog_test/image(3)_n.txt (deflated 98%)\n",
      "updating: content/ft_hog_test/image(98)_g.txt (deflated 88%)\n",
      "updating: content/ft_hog_test/image(4)_m.txt (deflated 92%)\n",
      "updating: content/ft_hog_test/image(71)_g.txt (deflated 93%)\n",
      "updating: content/ft_hog_test/image(11)_p.txt (deflated 82%)\n",
      "updating: content/ft_hog_test/image(75)_g.txt (deflated 95%)\n",
      "updating: content/ft_hog_test/image(99)_m.txt (deflated 97%)\n",
      "updating: content/ft_hog_test/image(87)_g.txt (deflated 94%)\n",
      "updating: content/ft_hog_test/image(2)_g.txt (deflated 87%)\n",
      "updating: content/ft_hog_test/image(83)_n.txt (deflated 97%)\n",
      "updating: content/ft_hog_test/image(43)_p.txt (deflated 90%)\n",
      "updating: content/ft_hog_test/image(77)_p.txt (deflated 95%)\n",
      "updating: content/ft_hog_test/image(91)_m.txt (deflated 98%)\n",
      "updating: content/ft_hog_test/image(15)_g.txt (deflated 92%)\n",
      "updating: content/ft_hog_test/image(35)_g.txt (deflated 96%)\n",
      "updating: content/ft_hog_test/image(22)_p.txt (deflated 93%)\n",
      "updating: content/ft_hog_test/image(16)_g.txt (deflated 92%)\n",
      "updating: content/ft_hog_test/image(83)_m.txt (deflated 98%)\n",
      "updating: content/ft_hog_test/image(68)_n.txt (deflated 99%)\n",
      "updating: content/ft_hog_test/image(98)_m.txt (deflated 97%)\n",
      "updating: content/ft_hog_test/image(66)_g.txt (deflated 94%)\n",
      "updating: content/ft_hog_test/image(70)_m.txt (deflated 97%)\n",
      "updating: content/ft_hog_test/image(45)_n.txt (deflated 98%)\n",
      "updating: content/ft_hog_test/image(56)_g.txt (deflated 98%)\n",
      "updating: content/ft_hog_test/image(25)_n.txt (deflated 98%)\n",
      "updating: content/ft_hog_test/image(49)_p.txt (deflated 97%)\n",
      "updating: content/ft_hog_test/image(80)_n.txt (deflated 97%)\n",
      "updating: content/ft_hog_test/image(1)_n.txt (deflated 98%)\n",
      "updating: content/ft_hog_test/image(90)_m.txt (deflated 98%)\n",
      "updating: content/ft_hog_test/image(47)_g.txt (deflated 91%)\n",
      "updating: content/ft_hog_test/image(43)_n.txt (deflated 98%)\n",
      "updating: content/ft_hog_test/image(87)_p.txt (deflated 88%)\n",
      "updating: content/ft_hog_test/image(73)_m.txt (deflated 97%)\n",
      "updating: content/ft_hog_test/image(64)_n.txt (deflated 96%)\n",
      "updating: content/ft_hog_test/image(89)_g.txt (deflated 97%)\n",
      "updating: content/ft_hog_test/image(109)_m.txt (deflated 97%)\n",
      "updating: content/ft_hog_test/image(9)_n.txt (deflated 97%)\n",
      "updating: content/ft_hog_test/image(71)_n.txt (deflated 98%)\n",
      "updating: content/ft_hog_test/image(76)_g.txt (deflated 95%)\n",
      "updating: content/ft_hog_test/image(69)_m.txt (deflated 97%)\n",
      "updating: content/ft_hog_test/image(123)_m.txt (deflated 86%)\n",
      "updating: content/ft_hog_test/image(14)_n.txt (deflated 99%)\n",
      "updating: content/ft_hog_test/image(94)_p.txt (deflated 93%)\n",
      "updating: content/ft_hog_test/image(17)_m.txt (deflated 96%)\n",
      "updating: content/ft_hog_test/image(41)_g.txt (deflated 91%)\n",
      "updating: content/ft_hog_test/image(6)_n.txt (deflated 98%)\n",
      "updating: content/ft_hog_test/image(95)_m.txt (deflated 98%)\n",
      "updating: content/ft_hog_test/image(50)_n.txt (deflated 98%)\n",
      "updating: content/ft_hog_test/image(50)_m.txt (deflated 98%)\n",
      "updating: content/ft_hog_test/image(84)_g.txt (deflated 96%)\n",
      "updating: content/ft_hog_test/image(35)_n.txt (deflated 100%)\n",
      "updating: content/ft_hog_test/image(29)_n.txt (deflated 97%)\n",
      "updating: content/ft_hog_test/image(63)_m.txt (deflated 95%)\n",
      "updating: content/ft_hog_test/image(43)_m.txt (deflated 96%)\n",
      "updating: content/ft_hog_test/image(34)_p.txt (deflated 91%)\n",
      "updating: content/ft_hog_test/image(55)_g.txt (deflated 96%)\n",
      "updating: content/ft_hog_test/image(36)_g.txt (deflated 93%)\n",
      "updating: content/ft_hog_test/image(68)_m.txt (deflated 97%)\n",
      "updating: content/ft_hog_test/image(49)_n.txt (deflated 97%)\n",
      "updating: content/ft_hog_test/image(22)_g.txt (deflated 82%)\n",
      "updating: content/ft_hog_test/image(95)_n.txt (deflated 99%)\n",
      "updating: content/ft_hog_test/image(85)_m.txt (deflated 97%)\n",
      "updating: content/ft_hog_test/image(56)_n.txt (deflated 98%)\n",
      "updating: content/ft_hog_test/image(57)_g.txt (deflated 98%)\n",
      "updating: content/ft_hog_test/image(35)_m.txt (deflated 91%)\n",
      "updating: content/ft_hog_test/image(14)_m.txt (deflated 94%)\n",
      "updating: content/ft_hog_test/image(118)_m.txt (deflated 87%)\n",
      "updating: content/ft_hog_test/image(97)_p.txt (deflated 91%)\n",
      "updating: content/ft_hog_test/image(44)_m.txt (deflated 94%)\n",
      "updating: content/ft_hog_test/image(9)_g.txt (deflated 91%)\n",
      "updating: content/ft_hog_test/image(40)_m.txt (deflated 94%)\n",
      "updating: content/ft_hog_test/image(78)_m.txt (deflated 87%)\n",
      "updating: content/ft_hog_test/image(97)_n.txt (deflated 96%)\n",
      "updating: content/ft_hog_test/image(92)_p.txt (deflated 91%)\n",
      "updating: content/ft_hog_test/image(70)_n.txt (deflated 98%)\n",
      "updating: content/ft_hog_test/image(7)_p.txt (deflated 98%)\n",
      "updating: content/ft_hog_test/image(76)_n.txt (deflated 98%)\n",
      "updating: content/ft_hog_test/image(69)_p.txt (deflated 93%)\n",
      "updating: content/ft_hog_test/image(11)_g.txt (deflated 89%)\n",
      "updating: content/ft_hog_test/image(73)_g.txt (deflated 93%)\n",
      "updating: content/ft_hog_test/image(102)_n.txt (deflated 98%)\n",
      "updating: content/ft_hog_test/image(94)_g.txt (deflated 98%)\n",
      "updating: content/ft_hog_test/image(11)_m.txt (deflated 97%)\n",
      "updating: content/ft_hog_test/image(96)_m.txt (deflated 98%)\n",
      "updating: content/ft_hog_test/image(65)_n.txt (deflated 98%)\n",
      "updating: content/ft_hog_test/image(3)_p.txt (deflated 92%)\n",
      "updating: content/ft_hog_test/image(95)_p.txt (deflated 93%)\n",
      "updating: content/ft_hog_test/image(23)_m.txt (deflated 96%)\n",
      "updating: content/ft_hog_test/image(25)_g.txt (deflated 93%)\n",
      "updating: content/ft_hog_test/image(73)_n.txt (deflated 98%)\n",
      "updating: content/ft_hog_test/image(41)_m.txt (deflated 93%)\n",
      "updating: content/ft_hog_test/image(47)_m.txt (deflated 98%)\n",
      "updating: content/ft_hog_test/image(5)_m.txt (deflated 97%)\n",
      "updating: content/ft_hog_test/image(6)_p.txt (deflated 93%)\n",
      "updating: content/ft_hog_test/image(33)_m.txt (deflated 95%)\n",
      "updating: content/ft_hog_test/image(100)_m.txt (deflated 97%)\n",
      "updating: content/ft_hog_test/image(23)_g.txt (deflated 97%)\n",
      "updating: content/ft_hog_test/image(31)_n.txt (deflated 99%)\n",
      "updating: content/ft_hog_test/image(53)_g.txt (deflated 98%)\n",
      "updating: content/ft_hog_test/image(28)_p.txt (deflated 68%)\n",
      "updating: content/ft_hog_test/image(37)_m.txt (deflated 91%)\n",
      "updating: content/ft_hog_test/image(63)_g.txt (deflated 93%)\n",
      "updating: content/ft_hog_test/image(81)_n.txt (deflated 98%)\n",
      "updating: content/ft_hog_test/image(6)_g.txt (deflated 97%)\n",
      "updating: content/ft_hog_test/image(101)_n.txt (deflated 97%)\n",
      "updating: content/ft_hog_test/image(100)_n.txt (deflated 96%)\n",
      "updating: content/ft_hog_test/image(83)_g.txt (deflated 99%)\n",
      "updating: content/ft_hog_test/image(62)_n.txt (deflated 99%)\n",
      "updating: content/ft_hog_test/image(28)_g.txt (deflated 92%)\n",
      "updating: content/ft_hog_test/image(36)_p.txt (deflated 97%)\n",
      "updating: content/ft_hog_test/image(38)_m.txt (deflated 91%)\n",
      "updating: content/ft_hog_test/image(64)_g.txt (deflated 90%)\n",
      "updating: content/ft_hog_test/image(5)_p.txt (deflated 93%)\n",
      "updating: content/ft_hog_test/image(22)_m.txt (deflated 97%)\n",
      "updating: content/ft_hog_test/image(56)_m.txt (deflated 80%)\n",
      "updating: content/ft_hog_test/image(75)_m.txt (deflated 98%)\n",
      "updating: content/ft_hog_test/image(86)_p.txt (deflated 92%)\n",
      "updating: content/ft_hog_test/image(1)_g.txt (deflated 85%)\n",
      "updating: content/ft_hog_test/image(7)_g.txt (deflated 94%)\n",
      "updating: content/ft_hog_test/image(38)_n.txt (deflated 97%)\n",
      "updating: content/ft_hog_test/image(12)_n.txt (deflated 98%)\n",
      "updating: content/ft_hog_test/image(80)_m.txt (deflated 97%)\n",
      "updating: content/ft_hog_test/image(51)_n.txt (deflated 97%)\n",
      "updating: content/ft_hog_test/image(20)_g.txt (deflated 95%)\n",
      "updating: content/ft_hog_test/image(54)_g.txt (deflated 98%)\n",
      "updating: content/ft_hog_test/image(21)_g.txt (deflated 85%)\n",
      "updating: content/ft_hog_test/image(48)_g.txt (deflated 98%)\n",
      "updating: content/ft_hog_test/image(12)_g.txt (deflated 89%)\n",
      "updating: content/ft_hog_test/image(37)_p.txt (deflated 97%)\n",
      "updating: content/ft_hog_test/image(102)_m.txt (deflated 98%)\n",
      "updating: content/ft_hog_test/image(53)_p.txt (deflated 62%)\n",
      "updating: content/ft_hog_test/image(78)_g.txt (deflated 90%)\n",
      "updating: content/ft_hog_test/image(93)_m.txt (deflated 97%)\n",
      "updating: content/ft_hog_test/image(41)_n.txt (deflated 98%)\n",
      "updating: content/ft_hog_test/image(31)_m.txt (deflated 97%)\n",
      "updating: content/ft_hog_test/image(44)_n.txt (deflated 98%)\n",
      "updating: content/ft_hog_test/image(45)_g.txt (deflated 95%)\n",
      "updating: content/ft_hog_test/image(56)_p.txt (deflated 98%)\n",
      "updating: content/ft_hog_test/image(30)_p.txt (deflated 91%)\n",
      "updating: content/ft_hog_test/image(18)_g.txt (deflated 87%)\n",
      "updating: content/ft_hog_test/image(37)_n.txt (deflated 98%)\n",
      "updating: content/ft_hog_test/image(74)_n.txt (deflated 99%)\n",
      "updating: content/ft_hog_test/image(51)_p.txt (deflated 90%)\n",
      "updating: content/ft_hog_test/image(46)_m.txt (deflated 91%)\n",
      "updating: content/ft_hog_test/image(92)_n.txt (deflated 99%)\n",
      "updating: content/ft_hog_test/image(8)_n.txt (deflated 97%)\n",
      "updating: content/ft_hog_test/image(88)_p.txt (deflated 88%)\n",
      "updating: content/ft_hog_test/image(66)_n.txt (deflated 98%)\n",
      "updating: content/ft_hog_test/image(52)_n.txt (deflated 98%)\n",
      "updating: content/ft_hog_test/image(99)_n.txt (deflated 97%)\n",
      "updating: content/ft_hog_test/image(42)_n.txt (deflated 97%)\n",
      "updating: content/ft_hog_test/image(2)_n.txt (deflated 97%)\n",
      "updating: content/ft_hog_test/image(2)_p.txt (deflated 92%)\n",
      "updating: content/ft_hog_test/image(10)_g.txt (deflated 92%)\n",
      "updating: content/ft_hog_test/image(14)_g.txt (deflated 90%)\n",
      "updating: content/ft_hog_test/image(57)_m.txt (deflated 89%)\n",
      "updating: content/ft_hog_test/image(74)_g.txt (deflated 93%)\n",
      "updating: content/ft_hog_test/image(92)_m.txt (deflated 97%)\n"
     ]
    },
    {
     "data": {
      "application/javascript": [
       "\n",
       "    async function download(id, filename, size) {\n",
       "      if (!google.colab.kernel.accessAllowed) {\n",
       "        return;\n",
       "      }\n",
       "      const div = document.createElement('div');\n",
       "      const label = document.createElement('label');\n",
       "      label.textContent = `Downloading \"${filename}\": `;\n",
       "      div.appendChild(label);\n",
       "      const progress = document.createElement('progress');\n",
       "      progress.max = size;\n",
       "      div.appendChild(progress);\n",
       "      document.body.appendChild(div);\n",
       "\n",
       "      const buffers = [];\n",
       "      let downloaded = 0;\n",
       "\n",
       "      const channel = await google.colab.kernel.comms.open(id);\n",
       "      // Send a message to notify the kernel that we're ready.\n",
       "      channel.send({})\n",
       "\n",
       "      for await (const message of channel.messages) {\n",
       "        // Send a message to notify the kernel that we're ready.\n",
       "        channel.send({})\n",
       "        if (message.buffers) {\n",
       "          for (const buffer of message.buffers) {\n",
       "            buffers.push(buffer);\n",
       "            downloaded += buffer.byteLength;\n",
       "            progress.value = downloaded;\n",
       "          }\n",
       "        }\n",
       "      }\n",
       "      const blob = new Blob(buffers, {type: 'application/binary'});\n",
       "      const a = document.createElement('a');\n",
       "      a.href = window.URL.createObjectURL(blob);\n",
       "      a.download = filename;\n",
       "      div.appendChild(a);\n",
       "      a.click();\n",
       "      div.remove();\n",
       "    }\n",
       "  "
      ],
      "text/plain": [
       "<IPython.core.display.Javascript object>"
      ]
     },
     "metadata": {},
     "output_type": "display_data"
    },
    {
     "data": {
      "application/javascript": [
       "download(\"download_a6d581bd-268d-49bd-a13f-a1eb0d8b7bbc\", \"ft_hog_test.zip\", 5664798)"
      ],
      "text/plain": [
       "<IPython.core.display.Javascript object>"
      ]
     },
     "metadata": {},
     "output_type": "display_data"
    }
   ],
   "source": [
    "# Download features\n",
    "!zip -r /content/ft_lbp_train.zip /content/ft_lbp_train\n",
    "!zip -r /content/ft_lbp_test.zip /content/ft_lbp_test\n",
    "\n",
    "!zip -r /content/ft_hog_train.zip /content/ft_hog_train\n",
    "!zip -r /content/ft_hog_test.zip /content/ft_hog_test\n",
    "\n",
    "from google.colab import files\n",
    "files.download(\"/content/ft_lbp_train.zip\")\n",
    "files.download(\"/content/ft_lbp_test.zip\")\n",
    "\n",
    "files.download(\"/content/ft_hog_train.zip\")\n",
    "files.download(\"/content/ft_hog_test.zip\")"
   ]
  },
  {
   "cell_type": "code",
   "execution_count": null,
   "id": "dVZ9jaNnKJXO",
   "metadata": {
    "id": "dVZ9jaNnKJXO"
   },
   "outputs": [],
   "source": [
    "# Save feature names\n",
    "with open('ft_hog_names.txt', 'w') as f:\n",
    "    f.write('\\n'.join(names_hog))\n",
    "\n",
    "with open('ft_lbp_names.txt', 'w') as f:\n",
    "    f.write('\\n'.join(names_lbp))"
   ]
  },
  {
   "cell_type": "markdown",
   "id": "LK7UFISmHsZ8",
   "metadata": {
    "id": "LK7UFISmHsZ8"
   },
   "source": [
    "Read features to create dfs"
   ]
  },
  {
   "cell_type": "code",
   "execution_count": null,
   "id": "K_XIztkJHt5I",
   "metadata": {
    "id": "K_XIztkJHt5I"
   },
   "outputs": [],
   "source": [
    "# !unzip -q ft_hog_test.zip\n",
    "# !unzip -q ft_lbp_test.zip\n",
    "! unzip -q ft_hog_train.zip\n",
    "# ! unzip -qft_lbp_train.zip"
   ]
  },
  {
   "cell_type": "code",
   "execution_count": null,
   "id": "qtyVe90L2Dtq",
   "metadata": {
    "id": "qtyVe90L2Dtq"
   },
   "outputs": [],
   "source": [
    "def read_features(ft_path):\n",
    "    \"\"\"\n",
    "    Read features from files\n",
    "\n",
    "    Params:\n",
    "    ft_path: path to the features .txt file\n",
    "\n",
    "    Returns:\n",
    "    features: list of features\n",
    "    names: list of names\n",
    "    labels: list of labels\n",
    "    \"\"\"\n",
    "\n",
    "    # Lists to return\n",
    "    features = []\n",
    "    names = []\n",
    "    labels = []\n",
    "\n",
    "    # For feature file in the path\n",
    "    for ft_file in os.listdir(ft_path):\n",
    "\n",
    "        # List of features for this image\n",
    "        ft_o = []\n",
    "\n",
    "        with open(os.path.join(ft_path, ft_file), 'r') as f:\n",
    "            for line in f:\n",
    "\n",
    "                # Remove linebreak\n",
    "                x = line[:-1]\n",
    "\n",
    "                # Add current feature to the list\n",
    "                ft_o.append(float(x))\n",
    "\n",
    "        label = ft_file[-5:-4]\n",
    "        names.append(ft_file[:-4])\n",
    "\n",
    "        if label == 'g':\n",
    "            labels.append(0)\n",
    "        elif label == 'n':\n",
    "            labels.append(2)\n",
    "        elif label == 'm':\n",
    "            labels.append(1)\n",
    "        elif label == 'p':\n",
    "            labels.append(3)\n",
    "        elif 'augmented' in ft_file:\n",
    "            labels.append(2)\n",
    "\n",
    "        features.append(ft_o)\n",
    "\n",
    "    return features, names, labels"
   ]
  },
  {
   "cell_type": "code",
   "execution_count": null,
   "id": "n3WkWGWg7WXE",
   "metadata": {
    "id": "n3WkWGWg7WXE"
   },
   "outputs": [],
   "source": [
    "def read_files(ft_names_path):\n",
    "    \"\"\"\n",
    "    Read feature names\n",
    "\n",
    "    Params:\n",
    "    ft_names_path: path to the feature names .txt file\n",
    "\n",
    "    Returns:\n",
    "    ft_names: list of radiomics feature names\n",
    "    \"\"\"\n",
    "\n",
    "    ft_names = []\n",
    "\n",
    "    # Open file and read the content in a list\n",
    "    with open(ft_names_path, 'r') as f:\n",
    "        for line in f:\n",
    "\n",
    "            # Remove linebreak\n",
    "            x = line[:-1]\n",
    "\n",
    "            # Add feature name to the list\n",
    "            ft_names.append(str(x))\n",
    "\n",
    "    return ft_names"
   ]
  },
  {
   "cell_type": "code",
   "execution_count": null,
   "id": "4EktN6pF7edO",
   "metadata": {
    "id": "4EktN6pF7edO"
   },
   "outputs": [],
   "source": [
    "names_lbp = read_files('/content/ft_lbp_names.txt')"
   ]
  },
  {
   "cell_type": "code",
   "execution_count": null,
   "id": "VNPUwlg57q3p",
   "metadata": {
    "id": "VNPUwlg57q3p"
   },
   "outputs": [],
   "source": [
    "names_hog = read_files('/content/ft_hog_names.txt')"
   ]
  },
  {
   "cell_type": "code",
   "execution_count": null,
   "id": "xDrOMtrc1xVw",
   "metadata": {
    "id": "xDrOMtrc1xVw"
   },
   "outputs": [],
   "source": [
    "# Load feature files to create dataframes\n",
    "hog_train, hog_train_names, hog_train_labels = read_features('/content/ft_hog_train')\n",
    "hog_test, hog_test_names, hog_test_labels = read_features('content/ft_hog_test')\n",
    "\n",
    "lbp_train, lbp_train_names, lbp_train_labels = read_features('content/ft_lbp_train')\n",
    "lbp_test, lbp_test_names, lbp_test_labels = read_features('content/ft_lbp_test')\n"
   ]
  },
  {
   "cell_type": "markdown",
   "id": "dJ3MEo6_XpTx",
   "metadata": {
    "id": "dJ3MEo6_XpTx"
   },
   "source": [
    "Creating dataframes and saving as .csv"
   ]
  },
  {
   "cell_type": "code",
   "execution_count": null,
   "id": "8feb0c19-8249-44f0-b25e-ca8ac12224a3",
   "metadata": {
    "id": "8feb0c19-8249-44f0-b25e-ca8ac12224a3"
   },
   "outputs": [],
   "source": [
    "df_hog_train = pd.DataFrame(hog_train, columns = names_hog, index = hog_train_names)\n",
    "df_hog_train['label'] = hog_train_labels\n",
    "df_lbp_train = pd.DataFrame(lbp_train, columns = names_lbp, index = lbp_train_names)\n",
    "df_lbp_train['label'] = lbp_train_labels\n",
    "\n",
    "df_hog_test = pd.DataFrame(hog_test, columns = names_hog, index = hog_test_names)\n",
    "df_hog_test['label'] = hog_test_labels\n",
    "df_lbp_test = pd.DataFrame(lbp_test, columns = names_lbp, index = lbp_test_names)\n",
    "df_lbp_test['label'] = lbp_test_labels\n",
    "\n",
    "df_train = pd.concat([df_hog_train, df_lbp_train], axis = 1)\n",
    "df_test = pd.concat([df_hog_test, df_lbp_test], axis = 1)"
   ]
  },
  {
   "cell_type": "code",
   "execution_count": null,
   "id": "Otok5e2IK2zV",
   "metadata": {
    "id": "Otok5e2IK2zV"
   },
   "outputs": [],
   "source": [
    "df_train = df_train.loc[:, (df_train != 0).any(axis=0)]\n",
    "df_test = df_test[list(df_train)]"
   ]
  },
  {
   "cell_type": "code",
   "execution_count": 48,
   "id": "gChmr4qIFLvN",
   "metadata": {
    "id": "gChmr4qIFLvN"
   },
   "outputs": [],
   "source": [
    "df_train.to_csv(\"/content/df_train_aug_no0.csv\")\n",
    "df_test.to_csv(\"df_test.csv\")"
   ]
  },
  {
   "cell_type": "markdown",
   "id": "POvJk6RyXmjT",
   "metadata": {
    "id": "POvJk6RyXmjT"
   },
   "source": [
    "Reading dataframe from .csv"
   ]
  },
  {
   "cell_type": "code",
   "execution_count": 58,
   "id": "ALGTBGDKXSia",
   "metadata": {
    "id": "ALGTBGDKXSia"
   },
   "outputs": [],
   "source": [
    "df_train = pd.read_csv('df_train_noaug_no0.csv', index_col=0)\n",
    "df_test = pd.read_csv('df_test.csv', index_col=0)"
   ]
  },
  {
   "cell_type": "markdown",
   "id": "dbf342b4-a6b7-4158-97fe-db25ea259ac4",
   "metadata": {
    "id": "dbf342b4-a6b7-4158-97fe-db25ea259ac4"
   },
   "source": [
    "### PSO"
   ]
  },
  {
   "cell_type": "code",
   "execution_count": null,
   "id": "2Yt3GgM4E_fl",
   "metadata": {
    "id": "2Yt3GgM4E_fl"
   },
   "outputs": [],
   "source": [
    "# numero total de features disponiveis\n",
    "max_feature_idx = len(df_train.columns) -1\n",
    "feature_idxs = list(range(0, max_feature_idx, 1))\n",
    "\n",
    "# number of dimensions\n",
    "# i.e. feature number for each particle\n",
    "n_dimensions = 10\n",
    "n_particles = 30\n",
    "\n",
    "# initial particles position\n",
    "# since we can't use the same feature repeated,\n",
    "# the initial position of every particle is a n_dimensions array with a random and unique combination of features\n",
    "initial_pos = []\n",
    "\n",
    "i = 0\n",
    "while i < n_particles:\n",
    "    # sample = random.randrange(0, max_feature_id, 1)\n",
    "    list_sample = random.sample(feature_idxs, n_dimensions)\n",
    "\n",
    "    equal = False\n",
    "    for particle in initial_pos:\n",
    "        if set(list_sample) == set(particle):\n",
    "            equal = True\n",
    "\n",
    "    if not equal:\n",
    "        initial_pos.append(list_sample)\n",
    "        i += 1\n",
    "\n",
    "# min and max values for the features\n",
    "# 0 is the id for the first feature,\n",
    "# and max_feature_id is the id for the last feature\n",
    "bounds = [(0, max_feature_idx-1)]*n_dimensions\n"
   ]
  },
  {
   "cell_type": "code",
   "execution_count": null,
   "id": "JKk2obENFCv1",
   "metadata": {
    "id": "JKk2obENFCv1"
   },
   "outputs": [],
   "source": [
    "def cost_function(features, df_train, df_test):\n",
    "\n",
    "    x_train = df_train.iloc[:,features]\n",
    "    y_train = df_train['label']\n",
    "    x_test = df_test.iloc[:,features]\n",
    "    y_test = df_test['label']\n",
    "\n",
    "    poly = svm.SVC(kernel='poly', degree=3, C=1)\n",
    "\n",
    "    poly.fit(x_train, y_train)\n",
    "    y_pred = poly.predict(x_test)\n",
    "\n",
    "    poly_f1 = f1_score(y_test, y_pred, average='weighted')\n",
    "\n",
    "    return poly_f1"
   ]
  },
  {
   "cell_type": "code",
   "execution_count": null,
   "id": "iu9ziHVVFBgk",
   "metadata": {
    "id": "iu9ziHVVFBgk"
   },
   "outputs": [],
   "source": [
    "class Particle:\n",
    "    def __init__(self, initial_pos, i):\n",
    "\n",
    "        self.position_i = []          # particle position, i.e. features\n",
    "        self.velocity_i = []          # particle velocity\n",
    "        self.pos_best_i = []          # best position individual\n",
    "        self.f1_best_i = -1          # best error individual\n",
    "        self.f1_i = -1               # error individual\n",
    "        self.df_train = []\n",
    "        self.df_test = []\n",
    "\n",
    "        # initialize position\n",
    "        self.position_i = initial_pos[i]\n",
    "        # initialize velocity as values between -1 and 1\n",
    "        for i in range(0, n_dimensions):\n",
    "            self.velocity_i.append(random.uniform(-1,1))\n",
    "\n",
    "    # evaluate current fitness\n",
    "    def evaluate(self, cost_func):\n",
    "        self.f1_i = cost_function(self.position_i, df_train, df_test)\n",
    "\n",
    "        # check to see if the current position is an individual best\n",
    "        if self.f1_i > self.f1_best_i or self.f1_best_i == -1:\n",
    "            self.pos_best_i = self.position_i.copy()\n",
    "            self.f1_best_i = self.f1_i\n",
    "\n",
    "    # update new particle velocity\n",
    "    def update_velocity(self, pos_best_g, w, c1, c2, n_dimensions):\n",
    "\n",
    "        # constant inertia weight (how much to weigh the previous velocity)\n",
    "        # cognitive constant (influences pbest)\n",
    "        # social constant (influences gbest)\n",
    "\n",
    "        for i in range(0, n_dimensions):\n",
    "\n",
    "            # non-deterministic values to prevent particles\n",
    "            # from getting stuck in local optima\n",
    "            r1 = random.random()\n",
    "            r2 = random.random()\n",
    "\n",
    "            # update cognitive and social\n",
    "            vel_cognitive = c1 * r1 * (self.pos_best_i[i] - self.position_i[i])\n",
    "            vel_social = c2 * r2 * (pos_best_g[i] - self.position_i[i])\n",
    "\n",
    "            self.velocity_i[i] = w * self.velocity_i[i] + vel_cognitive + vel_social\n",
    "\n",
    "    # update the particle position based off new velocity updates\n",
    "    def update_position(self, bounds, n_dimensions):\n",
    "        for i in range(0, n_dimensions):\n",
    "\n",
    "            # round value to get discrete position\n",
    "            position = round(self.position_i[i] + self.velocity_i[i])\n",
    "\n",
    "            # adjust maximum position if necessary\n",
    "            if position > bounds[i][1]:\n",
    "                position = bounds[i][1]\n",
    "\n",
    "            # adjust minimum position if necessary\n",
    "            if position < bounds[i][0]:\n",
    "                position = bounds[i][0]\n",
    "\n",
    "            # make sure the feature isn't already in the position array\n",
    "            if position not in self.position_i:\n",
    "                self.position_i[i] = position\n",
    "\n",
    "def maximize(cost_function, initial_pos, bounds, n_particles,\n",
    "             n_dimensions, maxiter, w, c1, c2, verbose=False):\n",
    "\n",
    "    f1_best_g = -1                    # best f1 score for group\n",
    "    pos_best_g = []                   # best position for group\n",
    "\n",
    "    # establish the swarm\n",
    "    swarm = []\n",
    "    for i in range(0, n_particles):\n",
    "        swarm.append(Particle(initial_pos, i))\n",
    "\n",
    "    # begin optimization loop\n",
    "    i = 0\n",
    "    while i < maxiter:\n",
    "        if verbose: print(f'iter: {i}, best f1-score: {f1_best_g:10.4f}')\n",
    "\n",
    "        # cycle through particles in swarm and evaluate fitness\n",
    "        for j in range(0, n_particles):\n",
    "            swarm[j].evaluate(cost_function)\n",
    "\n",
    "            # determine if current particle is the best (globally)\n",
    "            if swarm[j].f1_i > f1_best_g or f1_best_g == -1:\n",
    "                pos_best_g = swarm[j].position_i\n",
    "                f1_best_g = float(swarm[j].f1_i)\n",
    "\n",
    "        # cycle through swarm and update velocities and position\n",
    "        for j in range(0, n_particles):\n",
    "            swarm[j].update_velocity(pos_best_g, w, c1, c2, n_dimensions)\n",
    "            swarm[j].update_position(bounds, n_dimensions)\n",
    "\n",
    "        i += 1\n",
    "\n",
    "    f1_best_g = round(f1_best_g, 6)\n",
    "    pos_best_g = list(df_train.iloc[:,pos_best_g].columns)\n",
    "    # print final results\n",
    "    if verbose:\n",
    "        print('\\nFINAL SOLUTION:')\n",
    "        print(f'Features: {pos_best_g}')\n",
    "        print(f'Score: {f1_best_g}\\n')\n",
    "\n",
    "    return f1_best_g, pos_best_g"
   ]
  },
  {
   "cell_type": "code",
   "execution_count": null,
   "id": "Gf6DErIEFH7k",
   "metadata": {
    "colab": {
     "base_uri": "https://localhost:8080/"
    },
    "id": "Gf6DErIEFH7k",
    "outputId": "d29984e0-aca7-42d7-c8f3-2a9f6d57d69d"
   },
   "outputs": [
    {
     "name": "stdout",
     "output_type": "stream",
     "text": [
      "iter: 0, best f1-score:    -1.0000\n",
      "iter: 1, best f1-score:     0.3454\n",
      "\n",
      "FINAL SOLUTION:\n",
      "Features: ['lbp14', 'lbp16', 'lbp18', 'lbp8', 'lbp9', 'lbp20', 'lbp5', 'lbp3', 'lbp10', 'lbp10']\n",
      "Score: 0.345350435049269\n",
      "\n"
     ]
    }
   ],
   "source": [
    "f1_best_g, pos_best_g = maximize(cost_function, initial_pos, bounds, n_particles, n_dimensions, 2, 0.5, 0.5, 0.5, verbose=True)"
   ]
  },
  {
   "cell_type": "code",
   "execution_count": null,
   "id": "hcFHvyRFHAor",
   "metadata": {
    "id": "hcFHvyRFHAor"
   },
   "outputs": [],
   "source": [
    "inertias = [0.1, 0.5, 1]\n",
    "social = [0, 1, 2, 3, 4]\n",
    "cognitive = [0, 1, 2, 3, 4]\n",
    "max_iter = 30\n",
    "\n",
    "results = []\n",
    "\n",
    "for w in inertias:\n",
    "    for c1 in cognitive:\n",
    "        for c2 in social:\n",
    "            f1_best_g, pos_best_g = maximize(cost_function, initial_pos, bounds,\n",
    "                                             n_particles, n_dimensions, max_iter,\n",
    "                                             w, c1, c2, verbose=True)\n",
    "\n",
    "            results.append([w, c1, c2, f1_best_g, pos_best_g])\n",
    "\n"
   ]
  },
  {
   "cell_type": "markdown",
   "id": "cBvajqrxYeVe",
   "metadata": {
    "id": "cBvajqrxYeVe"
   },
   "source": [
    "Save the experiment results"
   ]
  },
  {
   "cell_type": "code",
   "execution_count": null,
   "id": "1jw-4NyLYFhO",
   "metadata": {
    "id": "1jw-4NyLYFhO"
   },
   "outputs": [],
   "source": [
    "import csv\n",
    "\n",
    "columns_names = [\"w\", \"c1\", \"c2\", \"f1_best_g\", \"pos_best_g\"]\n",
    "df = pd.DataFrame(results, columns=columns_names)\n",
    "df.index.name = 'iteration'\n",
    "\n",
    "df.to_csv('results.csv', index=True, header=True)"
   ]
  }
 ],
 "metadata": {
  "colab": {
   "provenance": []
  },
  "kernelspec": {
   "display_name": "Python 3 (ipykernel)",
   "language": "python",
   "name": "python3"
  },
  "language_info": {
   "codemirror_mode": {
    "name": "ipython",
    "version": 3
   },
   "file_extension": ".py",
   "mimetype": "text/x-python",
   "name": "python",
   "nbconvert_exporter": "python",
   "pygments_lexer": "ipython3",
   "version": "3.9.13"
  }
 },
 "nbformat": 4,
 "nbformat_minor": 5
}
